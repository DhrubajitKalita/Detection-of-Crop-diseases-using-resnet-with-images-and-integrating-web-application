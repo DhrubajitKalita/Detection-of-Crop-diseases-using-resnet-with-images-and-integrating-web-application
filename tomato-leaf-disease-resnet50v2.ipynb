{
 "cells": [
  {
   "cell_type": "code",
   "execution_count": null,
   "id": "855d5a7c",
   "metadata": {
    "_cell_guid": "b1076dfc-b9ad-4769-8c92-a6c4dae69d19",
    "_uuid": "8f2839f25d086af736a60e9eeb907d3b93b6e0e5",
    "execution": {
     "iopub.execute_input": "2021-09-20T08:37:27.474895Z",
     "iopub.status.busy": "2021-09-20T08:37:27.472865Z",
     "iopub.status.idle": "2021-09-20T08:37:27.550801Z",
     "shell.execute_reply": "2021-09-20T08:37:27.550053Z",
     "shell.execute_reply.started": "2021-09-20T08:12:29.599105Z"
    },
    "papermill": {
     "duration": 0.102237,
     "end_time": "2021-09-20T08:37:27.550967",
     "exception": false,
     "start_time": "2021-09-20T08:37:27.448730",
     "status": "completed"
    },
    "tags": []
   },
   "outputs": [],
   "source": [
    "import numpy as np # linear algebra\n",
    "import pandas as pd # data processing, CSV file I/O (e.g. pd.read_csv)\n",
    "\n",
    "import os"
   ]
  },
  {
   "cell_type": "code",
   "execution_count": null,
   "id": "41fa8e83",
   "metadata": {
    "execution": {
     "iopub.execute_input": "2021-09-20T08:37:27.594636Z",
     "iopub.status.busy": "2021-09-20T08:37:27.593835Z",
     "iopub.status.idle": "2021-09-20T08:37:32.943949Z",
     "shell.execute_reply": "2021-09-20T08:37:32.944532Z",
     "shell.execute_reply.started": "2021-09-20T08:12:29.688250Z"
    },
    "papermill": {
     "duration": 5.373468,
     "end_time": "2021-09-20T08:37:32.944708",
     "exception": false,
     "start_time": "2021-09-20T08:37:27.571240",
     "status": "completed"
    },
    "tags": []
   },
   "outputs": [],
   "source": [
    "%matplotlib inline\n",
    "from matplotlib import pyplot as plt\n",
    "from tensorflow.keras.models import Sequential\n",
    "from tensorflow.keras.layers import Dense, Dropout, Activation, Flatten"
   ]
  },
  {
   "cell_type": "code",
   "execution_count": null,
   "id": "38f12051",
   "metadata": {
    "execution": {
     "iopub.execute_input": "2021-09-20T08:37:33.001285Z",
     "iopub.status.busy": "2021-09-20T08:37:32.997294Z",
     "iopub.status.idle": "2021-09-20T08:37:33.003995Z",
     "shell.execute_reply": "2021-09-20T08:37:33.004813Z",
     "shell.execute_reply.started": "2021-09-20T08:12:31.270192Z"
    },
    "papermill": {
     "duration": 0.040121,
     "end_time": "2021-09-20T08:37:33.004969",
     "exception": false,
     "start_time": "2021-09-20T08:37:32.964848",
     "status": "completed"
    },
    "tags": []
   },
   "outputs": [],
   "source": [
    "%matplotlib inline\n",
    "import tensorflow as tf\n",
    "import numpy as np\n",
    "from matplotlib import pyplot as plt\n",
    "\n",
    "from tensorflow.keras.models import Sequential\n",
    "from tensorflow.keras.layers import Dense, Dropout, Activation, Flatten\n",
    "from tensorflow.keras.applications.resnet_v2 import ResNet50V2\n",
    "#from tensorflow.keras.preprocessing import image\n",
    "from tensorflow.keras.applications.resnet_v2 import preprocess_input, decode_predictions\n",
    "from tensorflow.keras import layers\n",
    "from tensorflow.keras.layers import Input, Add, Dense, Activation, BatchNormalization, Flatten, Conv2D, AveragePooling2D, MaxPooling2D, GlobalMaxPooling2D, GlobalAveragePooling2D\n",
    "from tensorflow.keras.models import Model, load_model\n",
    "from tensorflow.keras.initializers import random_uniform, glorot_uniform, constant, identity\n",
    "#from tensorflow.python.framework.ops import EagerTensor\n",
    "from matplotlib.pyplot import imshow\n",
    "\n",
    "\n",
    "%matplotlib inline"
   ]
  },
  {
   "cell_type": "code",
   "execution_count": null,
   "id": "d6faf663",
   "metadata": {
    "execution": {
     "iopub.execute_input": "2021-09-20T08:37:33.047129Z",
     "iopub.status.busy": "2021-09-20T08:37:33.046454Z",
     "iopub.status.idle": "2021-09-20T08:37:40.362517Z",
     "shell.execute_reply": "2021-09-20T08:37:40.361771Z",
     "shell.execute_reply.started": "2021-09-20T08:12:31.287739Z"
    },
    "papermill": {
     "duration": 7.338953,
     "end_time": "2021-09-20T08:37:40.362664",
     "exception": false,
     "start_time": "2021-09-20T08:37:33.023711",
     "status": "completed"
    },
    "tags": []
   },
   "outputs": [],
   "source": [
    "#https://www.tensorflow.org/api_docs/python/tf/keras/preprocessing/image/ImageDataGenerator\n",
    "from tensorflow.keras.preprocessing.image import ImageDataGenerator\n",
    "\n",
    "\n",
    "data_generator = ImageDataGenerator(rescale=1./255, validation_split = 0.3)\n",
    "\n",
    "train_generator = data_generator.flow_from_directory('C:/Users/dhruv/OneDrive/Desktop/7th sem project/tomato/train', subset=\"training\")\n",
    "valid_generator = data_generator.flow_from_directory('C:/Users/dhruv/OneDrive/Desktop/7th sem project/tomato/val', subset=\"validation\")"
   ]
  },
  {
   "cell_type": "code",
   "execution_count": null,
   "id": "9af13ef5",
   "metadata": {
    "execution": {
     "iopub.execute_input": "2021-09-20T08:37:40.414274Z",
     "iopub.status.busy": "2021-09-20T08:37:40.411656Z",
     "iopub.status.idle": "2021-09-20T08:37:41.093392Z",
     "shell.execute_reply": "2021-09-20T08:37:41.094642Z",
     "shell.execute_reply.started": "2021-09-20T08:12:31.623062Z"
    },
    "papermill": {
     "duration": 0.70968,
     "end_time": "2021-09-20T08:37:41.095041",
     "exception": false,
     "start_time": "2021-09-20T08:37:40.385361",
     "status": "completed"
    },
    "tags": []
   },
   "outputs": [],
   "source": [
    "print(train_generator.__len__())\n",
    "print(train_generator[0].__len__())\n",
    "print(train_generator[0][0].__len__())\n",
    "print(train_generator[0][0][0].__len__())\n",
    "print(train_generator[0][0][0][0].__len__())\n",
    "print(train_generator[0][0][0][0][0].__len__())\n",
    "\n",
    "print(train_generator[0][0][0][0][0]) # 1 pixel"
   ]
  },
  {
   "cell_type": "code",
   "execution_count": null,
   "id": "e44803ed",
   "metadata": {
    "execution": {
     "iopub.execute_input": "2021-09-20T08:37:41.141919Z",
     "iopub.status.busy": "2021-09-20T08:37:41.140926Z",
     "iopub.status.idle": "2021-09-20T08:37:41.993713Z",
     "shell.execute_reply": "2021-09-20T08:37:41.994338Z",
     "shell.execute_reply.started": "2021-09-20T08:12:32.125897Z"
    },
    "papermill": {
     "duration": 0.880651,
     "end_time": "2021-09-20T08:37:41.994537",
     "exception": false,
     "start_time": "2021-09-20T08:37:41.113886",
     "status": "completed"
    },
    "tags": []
   },
   "outputs": [],
   "source": [
    "print(valid_generator.__len__())\n",
    "print(valid_generator[0].__len__())\n",
    "print(valid_generator[0][0].__len__())\n",
    "print(valid_generator[0][0][0].__len__())\n",
    "print(valid_generator[0][0][0][0].__len__())\n",
    "print(valid_generator[0][0][0][0][0].__len__())\n",
    "\n",
    "print(valid_generator[0][0][0][0][0]) # 1 pixel"
   ]
  },
  {
   "cell_type": "code",
   "execution_count": null,
   "id": "03c2c8b4",
   "metadata": {
    "execution": {
     "iopub.execute_input": "2021-09-20T08:37:42.041293Z",
     "iopub.status.busy": "2021-09-20T08:37:42.039825Z",
     "iopub.status.idle": "2021-09-20T08:37:42.263957Z",
     "shell.execute_reply": "2021-09-20T08:37:42.264580Z",
     "shell.execute_reply.started": "2021-09-20T08:12:32.652980Z"
    },
    "papermill": {
     "duration": 0.250361,
     "end_time": "2021-09-20T08:37:42.264816",
     "exception": false,
     "start_time": "2021-09-20T08:37:42.014455",
     "status": "completed"
    },
    "tags": []
   },
   "outputs": [],
   "source": [
    "x_train, y_train = train_generator.next()\n",
    "print(x_train.__len__(), y_train.__len__())\n",
    "print(x_train[0].__len__(), y_train[0].__len__())\n"
   ]
  },
  {
   "cell_type": "code",
   "execution_count": null,
   "id": "67a36907",
   "metadata": {
    "execution": {
     "iopub.execute_input": "2021-09-20T08:37:42.333206Z",
     "iopub.status.busy": "2021-09-20T08:37:42.310475Z",
     "iopub.status.idle": "2021-09-20T08:37:42.587593Z",
     "shell.execute_reply": "2021-09-20T08:37:42.588213Z",
     "shell.execute_reply.started": "2021-09-20T08:12:32.754609Z"
    },
    "papermill": {
     "duration": 0.302451,
     "end_time": "2021-09-20T08:37:42.588379",
     "exception": false,
     "start_time": "2021-09-20T08:37:42.285928",
     "status": "completed"
    },
    "tags": []
   },
   "outputs": [],
   "source": [
    "import matplotlib.pyplot as plt\n",
    "print(x_train.shape, x_train[0].shape)\n",
    "plt.imshow(x_train[0])\n",
    "plt.show()"
   ]
  },
  {
   "cell_type": "code",
   "execution_count": null,
   "id": "9ff5245e",
   "metadata": {
    "_kg_hide-input": false,
    "_kg_hide-output": false,
    "execution": {
     "iopub.execute_input": "2021-09-20T08:37:42.642798Z",
     "iopub.status.busy": "2021-09-20T08:37:42.642000Z",
     "iopub.status.idle": "2021-09-20T08:37:48.810785Z",
     "shell.execute_reply": "2021-09-20T08:37:48.810051Z",
     "shell.execute_reply.started": "2021-09-20T08:12:32.991421Z"
    },
    "papermill": {
     "duration": 6.199905,
     "end_time": "2021-09-20T08:37:48.810936",
     "exception": false,
     "start_time": "2021-09-20T08:37:42.611031",
     "status": "completed"
    },
    "tags": []
   },
   "outputs": [],
   "source": [
    "resnetv2 = tf.keras.applications.resnet_v2.ResNet50V2(\n",
    "    include_top=False,\n",
    "    input_shape=(256,256,3)\n",
    ")\n",
    "\n",
    "resnetv2.trainable = False"
   ]
  },
  {
   "cell_type": "code",
   "execution_count": null,
   "id": "c18be8bd",
   "metadata": {
    "execution": {
     "iopub.execute_input": "2021-09-20T08:37:48.884310Z",
     "iopub.status.busy": "2021-09-20T08:37:48.883445Z",
     "iopub.status.idle": "2021-09-20T08:37:48.900242Z",
     "shell.execute_reply": "2021-09-20T08:37:48.899582Z",
     "shell.execute_reply.started": "2021-09-20T08:12:35.220999Z"
    },
    "papermill": {
     "duration": 0.057839,
     "end_time": "2021-09-20T08:37:48.900499",
     "exception": false,
     "start_time": "2021-09-20T08:37:48.842660",
     "status": "completed"
    },
    "tags": []
   },
   "outputs": [],
   "source": [
    "data_augmentation = tf.keras.Sequential([\n",
    "    layers.experimental.preprocessing.RandomFlip(\"horizontal_and_vertical\"),\n",
    "    layers.experimental.preprocessing.RandomContrast(0.15),\n",
    "    layers.experimental.preprocessing.RandomRotation(0.2),\n",
    "])"
   ]
  },
  {
   "cell_type": "code",
   "execution_count": null,
   "id": "a1f55cbd",
   "metadata": {
    "execution": {
     "iopub.execute_input": "2021-09-20T08:37:48.976271Z",
     "iopub.status.busy": "2021-09-20T08:37:48.974504Z",
     "iopub.status.idle": "2021-09-20T08:37:48.990322Z",
     "shell.execute_reply": "2021-09-20T08:37:48.989786Z",
     "shell.execute_reply.started": "2021-09-20T08:12:35.242106Z"
    },
    "papermill": {
     "duration": 0.058658,
     "end_time": "2021-09-20T08:37:48.990472",
     "exception": false,
     "start_time": "2021-09-20T08:37:48.931814",
     "status": "completed"
    },
    "tags": []
   },
   "outputs": [],
   "source": [
    "model = Sequential([\n",
    "    data_augmentation,\n",
    "    resnetv2,\n",
    "    Dense(512,activation='relu'),\n",
    "    BatchNormalization(),\n",
    "    GlobalAveragePooling2D(), # No global - > shape :(None, 4,4,10)\n",
    "    # Global for Flatten\n",
    "    Dense(10,activation='softmax')\n",
    "])"
   ]
  },
  {
   "cell_type": "code",
   "execution_count": null,
   "id": "26c8c009",
   "metadata": {
    "execution": {
     "iopub.execute_input": "2021-09-20T08:37:49.138811Z",
     "iopub.status.busy": "2021-09-20T08:37:49.137793Z",
     "iopub.status.idle": "2021-09-20T08:37:49.147059Z",
     "shell.execute_reply": "2021-09-20T08:37:49.146424Z",
     "shell.execute_reply.started": "2021-09-20T08:12:35.270752Z"
    },
    "papermill": {
     "duration": 0.054359,
     "end_time": "2021-09-20T08:37:49.147183",
     "exception": false,
     "start_time": "2021-09-20T08:37:49.092824",
     "status": "completed"
    },
    "tags": []
   },
   "outputs": [],
   "source": [
    "model.compile( optimizer='adam',\n",
    "             loss='categorical_crossentropy',\n",
    "             metrics=['accuracy'])"
   ]
  },
  {
   "cell_type": "code",
   "execution_count": null,
   "id": "94cae708",
   "metadata": {
    "execution": {
     "iopub.execute_input": "2021-09-20T08:37:49.216756Z",
     "iopub.status.busy": "2021-09-20T08:37:49.215740Z",
     "iopub.status.idle": "2021-09-20T08:43:18.495531Z",
     "shell.execute_reply": "2021-09-20T08:43:18.496230Z",
     "shell.execute_reply.started": "2021-09-20T08:13:43.755514Z"
    },
    "papermill": {
     "duration": 329.317495,
     "end_time": "2021-09-20T08:43:18.496437",
     "exception": false,
     "start_time": "2021-09-20T08:37:49.178942",
     "status": "completed"
    },
    "tags": []
   },
   "outputs": [],
   "source": [
    "model.fit(\n",
    "        train_generator,\n",
    "        batch_size=32,\n",
    "        epochs=10,\n",
    "        validation_data=valid_generator,\n",
    "        validation_steps=800\n",
    ")"
   ]
  },
  {
   "cell_type": "code",
   "execution_count": null,
   "id": "63b56110",
   "metadata": {
    "execution": {
     "iopub.execute_input": "2021-09-20T08:43:20.052039Z",
     "iopub.status.busy": "2021-09-20T08:43:20.051245Z",
     "iopub.status.idle": "2021-09-20T08:43:27.927221Z",
     "shell.execute_reply": "2021-09-20T08:43:27.928038Z",
     "shell.execute_reply.started": "2021-09-20T08:19:14.806200Z"
    },
    "papermill": {
     "duration": 8.677723,
     "end_time": "2021-09-20T08:43:27.928265",
     "exception": false,
     "start_time": "2021-09-20T08:43:19.250542",
     "status": "completed"
    },
    "tags": []
   },
   "outputs": [],
   "source": [
    "test_generator = data_generator.flow_from_directory('C:/Users/dhruv/OneDrive/Desktop/7th sem project/tomato/val')\n",
    "\n",
    "loss, accuracy = model.evaluate(test_generator)\n",
    "print(\"Loss is \", loss) # Epoch : 8\n",
    "print(\"Accuracy is \", accuracy) # With more Contrast and Rotation\n",
    "# Contrast : 0.5, Rotate = 0.5"
   ]
  },
  {
   "cell_type": "code",
   "execution_count": null,
   "id": "f13ffbba",
   "metadata": {},
   "outputs": [],
   "source": [
    "from tensorflow.keras.preprocessing import image\n",
    "\n",
    "# Load the image\n",
    "img_path = r'C:\\Users\\dhruv\\OneDrive\\Desktop\\7th sem project\\tomato\\Images\\35797a1e-c933-4ae3-817f-abc07775075d___GCREC_Bact.Sp_3204-removebg-preview.png'\n",
    "img = image.load_img(img_path, target_size=(256, 256))\n",
    "\n",
    "# Preprocess the image\n",
    "img_array = image.img_to_array(img)\n",
    "plt.imshow(img_array/255.)\n",
    "img_array = np.expand_dims(img_array, axis=0)\n",
    "img_array = img_array / 255.0  # Rescale to match the rescaling done during training\n",
    "\n",
    "# Get predictions\n",
    "predictions = model.predict(img_array)\n",
    "\n",
    "# Interpret predictions\n",
    "class_names = train_generator.class_indices\n",
    "predicted_class = np.argmax(predictions)\n",
    "predicted_label = list(class_names.keys())[predicted_class]\n",
    "print(\"Predicted class:\", predicted_label)\n",
    "\n"
   ]
  },
  {
   "cell_type": "code",
   "execution_count": null,
   "id": "e3a22dfa",
   "metadata": {},
   "outputs": [],
   "source": []
  }
 ],
 "metadata": {
  "kernelspec": {
   "display_name": "Python 3",
   "language": "python",
   "name": "python3"
  },
  "language_info": {
   "codemirror_mode": {
    "name": "ipython",
    "version": 3
   },
   "file_extension": ".py",
   "mimetype": "text/x-python",
   "name": "python",
   "nbconvert_exporter": "python",
   "pygments_lexer": "ipython3",
   "version": "3.11.4"
  },
  "papermill": {
   "default_parameters": {},
   "duration": 377.033133,
   "end_time": "2021-09-20T08:43:36.897856",
   "environment_variables": {},
   "exception": null,
   "input_path": "__notebook__.ipynb",
   "output_path": "__notebook__.ipynb",
   "parameters": {},
   "start_time": "2021-09-20T08:37:19.864723",
   "version": "2.3.3"
  }
 },
 "nbformat": 4,
 "nbformat_minor": 5
}
